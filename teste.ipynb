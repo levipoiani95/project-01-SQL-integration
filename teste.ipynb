{
 "cells": [
  {
   "cell_type": "code",
   "execution_count": 2,
   "id": "291f3d50",
   "metadata": {},
   "outputs": [
    {
     "name": "stdout",
     "output_type": "stream",
     "text": [
      "['nome', 'idade', 'data_nascimento', 'empresa', 'cargo', 'exames']\n"
     ]
    }
   ],
   "source": [
    "import funcoes \n",
    "dados = funcoes.listar_dados()\n",
    "columns = ['nome','idade','data_nascimento','empresa','cargo','exames']\n",
    "print(columns)"
   ]
  },
  {
   "cell_type": "code",
   "execution_count": 3,
   "id": "6b074158",
   "metadata": {},
   "outputs": [
    {
     "data": {
      "text/html": [
       "<div>\n",
       "<style scoped>\n",
       "    .dataframe tbody tr th:only-of-type {\n",
       "        vertical-align: middle;\n",
       "    }\n",
       "\n",
       "    .dataframe tbody tr th {\n",
       "        vertical-align: top;\n",
       "    }\n",
       "\n",
       "    .dataframe thead th {\n",
       "        text-align: right;\n",
       "    }\n",
       "</style>\n",
       "<table border=\"1\" class=\"dataframe\">\n",
       "  <thead>\n",
       "    <tr style=\"text-align: right;\">\n",
       "      <th></th>\n",
       "      <th>nome</th>\n",
       "      <th>idade</th>\n",
       "      <th>data_nascimento</th>\n",
       "      <th>empresa</th>\n",
       "      <th>cargo</th>\n",
       "      <th>exames</th>\n",
       "    </tr>\n",
       "  </thead>\n",
       "  <tbody>\n",
       "    <tr>\n",
       "      <th>0</th>\n",
       "      <td>Levi Poiani</td>\n",
       "      <td>29</td>\n",
       "      <td>1990-01-01</td>\n",
       "      <td>Poiani Medicina e Segurança do trabalho</td>\n",
       "      <td>Manutentor Técnico</td>\n",
       "      <td>b</td>\n",
       "    </tr>\n",
       "    <tr>\n",
       "      <th>1</th>\n",
       "      <td>Levi Poiani</td>\n",
       "      <td>29</td>\n",
       "      <td>1990-01-01</td>\n",
       "      <td>Poiani Medicina e Segurança do trabalho</td>\n",
       "      <td>Manutentor Técnico</td>\n",
       "      <td>b</td>\n",
       "    </tr>\n",
       "    <tr>\n",
       "      <th>2</th>\n",
       "      <td>Levi Poiani</td>\n",
       "      <td>29</td>\n",
       "      <td>1990-01-01</td>\n",
       "      <td>Poiani Medicina e Segurança do trabalho</td>\n",
       "      <td>Manutentor Técnico</td>\n",
       "      <td>b</td>\n",
       "    </tr>\n",
       "    <tr>\n",
       "      <th>3</th>\n",
       "      <td>Levi Poiani</td>\n",
       "      <td>29</td>\n",
       "      <td>1990-01-01</td>\n",
       "      <td>Poiani Medicina e Segurança do trabalho</td>\n",
       "      <td>Manutentor Técnico</td>\n",
       "      <td>zzzzzzzzzzzzzzzzzzzzzzzz</td>\n",
       "    </tr>\n",
       "    <tr>\n",
       "      <th>4</th>\n",
       "      <td>Levi Poiani</td>\n",
       "      <td>54645</td>\n",
       "      <td>1990-01-01</td>\n",
       "      <td>hgnghn</td>\n",
       "      <td>nghnghn</td>\n",
       "      <td>nghng</td>\n",
       "    </tr>\n",
       "  </tbody>\n",
       "</table>\n",
       "</div>"
      ],
      "text/plain": [
       "          nome  idade data_nascimento  \\\n",
       "0  Levi Poiani     29      1990-01-01   \n",
       "1  Levi Poiani     29      1990-01-01   \n",
       "2  Levi Poiani     29      1990-01-01   \n",
       "3  Levi Poiani     29      1990-01-01   \n",
       "4  Levi Poiani  54645      1990-01-01   \n",
       "\n",
       "                                   empresa               cargo  \\\n",
       "0  Poiani Medicina e Segurança do trabalho  Manutentor Técnico   \n",
       "1  Poiani Medicina e Segurança do trabalho  Manutentor Técnico   \n",
       "2  Poiani Medicina e Segurança do trabalho  Manutentor Técnico   \n",
       "3  Poiani Medicina e Segurança do trabalho  Manutentor Técnico   \n",
       "4                                   hgnghn             nghnghn   \n",
       "\n",
       "                     exames  \n",
       "0                         b  \n",
       "1                         b  \n",
       "2                         b  \n",
       "3  zzzzzzzzzzzzzzzzzzzzzzzz  \n",
       "4                     nghng  "
      ]
     },
     "metadata": {},
     "output_type": "display_data"
    }
   ],
   "source": [
    "import pandas as pd\n",
    "import funcoes \n",
    "import numpy as np\n",
    "\n",
    "dados = np.array(dados)\n",
    "\n",
    "df = pd.DataFrame(dados,columns=columns) \n",
    "\n",
    "display(df)\n"
   ]
  },
  {
   "cell_type": "code",
   "execution_count": null,
   "id": "b7367695",
   "metadata": {},
   "outputs": [],
   "source": []
  }
 ],
 "metadata": {
  "kernelspec": {
   "display_name": "cadastro-sistema-levi-py3.13",
   "language": "python",
   "name": "python3"
  },
  "language_info": {
   "codemirror_mode": {
    "name": "ipython",
    "version": 3
   },
   "file_extension": ".py",
   "mimetype": "text/x-python",
   "name": "python",
   "nbconvert_exporter": "python",
   "pygments_lexer": "ipython3",
   "version": "3.13.5"
  }
 },
 "nbformat": 4,
 "nbformat_minor": 5
}
